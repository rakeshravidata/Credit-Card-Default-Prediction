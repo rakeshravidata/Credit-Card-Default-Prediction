{
 "cells": [
  {
   "cell_type": "markdown",
   "metadata": {},
   "source": [
    "# 1. Reading Data"
   ]
  },
  {
   "cell_type": "code",
   "execution_count": 1,
   "metadata": {},
   "outputs": [
    {
     "name": "stderr",
     "output_type": "stream",
     "text": [
      "Using TensorFlow backend.\n"
     ]
    }
   ],
   "source": [
    "# Import General Libraries \n",
    "import pandas as pd\n",
    "import numpy as np\n",
    "import seaborn as sns\n",
    "import matplotlib.pyplot as plt\n",
    "from sklearn.preprocessing import StandardScaler\n",
    "from sklearn.manifold import TSNE\n",
    "from fastai.imports import *\n",
    "# from fastai.structured import *\n",
    "from sklearn.cluster import KMeans # KMeans clustering \n",
    "import matplotlib.pyplot as plt # Python defacto plotting library\n",
    "import seaborn as sns # More snazzy plotting library\n",
    "# from pandas_summary import DataFrameSummary\n",
    "from sklearn.ensemble import RandomForestRegressor, RandomForestClassifier\n",
    "from sklearn.metrics import confusion_matrix\n",
    "from sklearn.model_selection import GridSearchCV\n",
    "from sklearn.linear_model import LogisticRegression\n",
    "from sklearn.decomposition import PCA\n",
    "from sklearn.preprocessing import StandardScaler\n",
    "# from imblearn.over_sampling import SMOTE\n",
    "from keras.models import Sequential\n",
    "from keras.layers import Dense\n",
    "from keras.layers import Dense, Dropout, Activation\n",
    "from sklearn.metrics import confusion_matrix, precision_recall_curve, auc, roc_auc_score, roc_curve, recall_score, classification_report"
   ]
  },
  {
   "cell_type": "code",
   "execution_count": 27,
   "metadata": {},
   "outputs": [],
   "source": [
    "#reading data\n",
    "df = pd.read_csv(\"/Users/rakeshravi/Downloads/UCI_Credit_Card.csv\")\n",
    "df[\"MARRIAGE\"].replace([0], 3, inplace=True)\n",
    "df[\"EDUCATION\"].replace([0,5,6], 4, inplace=True)\n",
    "collist = ['AGE','SEX','EDUCATION','MARRIAGE', 'PAY_0','PAY_2','PAY_3','PAY_4','PAY_5','PAY_6']\n",
    "for col in collist:\n",
    "    df[col] = df[col].astype('category',copy=False)"
   ]
  },
  {
   "cell_type": "code",
   "execution_count": 28,
   "metadata": {
    "scrolled": false
   },
   "outputs": [
    {
     "name": "stderr",
     "output_type": "stream",
     "text": [
      "/anaconda3/lib/python3.6/site-packages/sklearn/preprocessing/data.py:625: DataConversionWarning: Data with input dtype uint8, int64, float64 were all converted to float64 by StandardScaler.\n",
      "  return self.partial_fit(X, y)\n",
      "/anaconda3/lib/python3.6/site-packages/sklearn/base.py:462: DataConversionWarning: Data with input dtype uint8, int64, float64 were all converted to float64 by StandardScaler.\n",
      "  return self.fit(X, **fit_params).transform(X)\n",
      "/anaconda3/lib/python3.6/site-packages/sklearn/preprocessing/data.py:625: DataConversionWarning: Data with input dtype uint8, int64, float64 were all converted to float64 by StandardScaler.\n",
      "  return self.partial_fit(X, y)\n",
      "/anaconda3/lib/python3.6/site-packages/sklearn/base.py:462: DataConversionWarning: Data with input dtype uint8, int64, float64 were all converted to float64 by StandardScaler.\n",
      "  return self.fit(X, **fit_params).transform(X)\n"
     ]
    }
   ],
   "source": [
    "#data prep for Neural Network\n",
    "\n",
    "#converting sex, marriage, age and education into one-hot\n",
    "df = pd.get_dummies(df)\n",
    "df.rename(columns={'default.payment.next.month':'default'}, inplace=True)\n",
    "y = df[\"default\"]\n",
    "df = df.drop([\"default\"], axis = 1)\n",
    "\n",
    "#train and test splitting\n",
    "def split_vals(a,n): \n",
    "    return a[:n].copy(), a[n:].copy()\n",
    "\n",
    "n_valid = 5000  \n",
    "n_trn = len(df)-n_valid\n",
    "raw_train, raw_valid = split_vals(df, n_trn)\n",
    "X_train, X_valid = split_vals(df, n_trn)\n",
    "y_train, y_valid = split_vals(y, n_trn)\n",
    "\n",
    "X_train_IDs = X_train[\"ID\"]\n",
    "X_train_s = X_train.drop([\"ID\"], axis = 1)\n",
    "X_valid_IDs = X_valid[\"ID\"]\n",
    "X_valid_s = X_valid.drop([\"ID\"], axis = 1)\n",
    "\n",
    "#standardising training and testing datasets to ensure that features are normalized\n",
    "X_train = StandardScaler().fit_transform(X_train)\n",
    "X_valid = StandardScaler().fit_transform(X_valid)\n",
    "import itertools\n",
    "def plot_confusion_matrix(cm, classes,\n",
    "                          normalize=False,\n",
    "                          title='Confusion matrix',\n",
    "                          cmap=plt.cm.Blues):\n",
    "    \"\"\"\n",
    "    This function prints and plots the confusion matrix.\n",
    "    Normalization can be applied by setting `normalize=True`.\n",
    "    \"\"\"\n",
    "    plt.imshow(cm, interpolation='nearest', cmap=cmap)\n",
    "    plt.title(title)\n",
    "    plt.colorbar()\n",
    "    tick_marks = np.arange(len(classes))\n",
    "    plt.xticks(tick_marks, classes, rotation=0)\n",
    "    plt.yticks(tick_marks, classes)\n",
    "\n",
    "    if normalize:\n",
    "        cm = cm.astype('float') / cm.sum(axis=1)[:, np.newaxis]\n",
    "        #print(\"Normalized confusion matrix\")\n",
    "    else:\n",
    "        1#print('Confusion matrix, without normalization')\n",
    "\n",
    "    #print(cm)\n",
    "\n",
    "    thresh = cm.max() / 2.\n",
    "    for i, j in itertools.product(range(cm.shape[0]), range(cm.shape[1])):\n",
    "        plt.text(j, i, cm[i, j],\n",
    "                 horizontalalignment=\"center\",\n",
    "                 color=\"white\" if cm[i, j] > thresh else \"black\")\n",
    "\n",
    "    plt.tight_layout()\n",
    "    plt.ylabel('True label')\n",
    "    plt.xlabel('Predicted label')"
   ]
  },
  {
   "cell_type": "markdown",
   "metadata": {},
   "source": [
    "## Model 1 - Logistic Regression"
   ]
  },
  {
   "cell_type": "code",
   "execution_count": 29,
   "metadata": {
    "scrolled": false
   },
   "outputs": [
    {
     "name": "stderr",
     "output_type": "stream",
     "text": [
      "/anaconda3/lib/python3.6/site-packages/sklearn/linear_model/logistic.py:758: ConvergenceWarning: lbfgs failed to converge. Increase the number of iterations.\n",
      "  \"of iterations.\", ConvergenceWarning)\n"
     ]
    },
    {
     "data": {
      "image/png": "[encoded data removed]",
      "text/plain": [
       "<Figure size 432x288 with 2 Axes>"
      ]
     },
     "metadata": {
      "needs_background": "light"
     },
     "output_type": "display_data"
    },
    {
     "name": "stdout",
     "output_type": "stream",
     "text": [
      "precision: 71.1281070745698\n",
      "recall: 35.16068052930057\n",
      "false positive rate: 3.830542871638762\n",
      "accuracy: 83.26\n",
      "F1-score: 0.47058823529411764\n",
      "AUC: 0.656650688288309\n"
     ]
    }
   ],
   "source": [
    "#cross validation\n",
    "from sklearn.linear_model import LogisticRegression\n",
    "m = LogisticRegression(random_state=0, solver='lbfgs', multi_class='multinomial')\n",
    "m.fit(X_train, y_train)\n",
    "\n",
    "\n",
    "#confusion Matrix\n",
    "cm = confusion_matrix(y_valid, m.predict(X_valid))\n",
    "class_names = [0,1]\n",
    "plt.figure()\n",
    "plot_confusion_matrix(cm , classes=class_names, title='Confusion matrix')\n",
    "plt.show()\n",
    "tn, fp, fn, tp = cm.ravel()\n",
    "precision=tp/(tp+fp)\n",
    "recall=tp/(tp+fn)\n",
    "fpr = fp/(fp+ tn)\n",
    "accuracy = (tp + tn)/(tn + tp + fn + fp)\n",
    "F1 = 2 * (precision * recall) / (precision + recall)\n",
    "Fpr, tpr, thresholds = roc_curve(y_valid, m.predict(X_valid))\n",
    "roc_auc = auc(Fpr,tpr)\n",
    "print(\"precision:\", precision*100)\n",
    "print(\"recall:\", recall*100)\n",
    "print(\"false positive rate:\", fpr*100)\n",
    "print(\"accuracy:\",  accuracy*100)\n",
    "print(\"F1-score:\", F1)\n",
    "print(\"AUC:\", roc_auc)"
   ]
  },
  {
   "cell_type": "markdown",
   "metadata": {},
   "source": [
    "## Model 2 - Random Forest"
   ]
  },
  {
   "cell_type": "code",
   "execution_count": 33,
   "metadata": {
    "scrolled": false
   },
   "outputs": [
    {
     "data": {
      "image/png": "[encoded data removed]",
      "text/plain": [
       "<Figure size 432x288 with 2 Axes>"
      ]
     },
     "metadata": {
      "needs_background": "light"
     },
     "output_type": "display_data"
    },
    {
     "name": "stdout",
     "output_type": "stream",
     "text": [
      "precision: 72.49466950959487\n",
      "recall: 32.136105860113425\n",
      "false positive rate: 3.272450532724505\n",
      "accuracy: 83.06\n",
      "F1-score: 0.44531761624099536\n",
      "AUC: 0.6443182766369446\n"
     ]
    }
   ],
   "source": [
    "#Random Forest\n",
    "m = RandomForestClassifier(n_estimators=500, min_samples_leaf=100, max_features=0.5, n_jobs=-1, max_depth=5)\n",
    "m.fit(X_train, y_train)\n",
    "\n",
    "#confusion Matrix\n",
    "cm = confusion_matrix(y_valid, m.predict(X_valid))\n",
    "class_names = [0,1]\n",
    "plt.figure()\n",
    "plot_confusion_matrix(cm , classes=class_names, title='Confusion matrix')\n",
    "plt.show()\n",
    "tn, fp, fn, tp = cm.ravel()\n",
    "precision=tp/(tp+fp)\n",
    "recall=tp/(tp+fn)\n",
    "fpr = fp/(fp+ tn)\n",
    "accuracy = (tp + tn)/(tn + tp + fn + fp)\n",
    "F1 = 2 * (precision * recall) / (precision + recall)\n",
    "Fpr, tpr, thresholds = roc_curve(y_valid, m.predict(X_valid))\n",
    "roc_auc = auc(Fpr,tpr)\n",
    "print(\"precision:\", precision*100)\n",
    "print(\"recall:\", recall*100)\n",
    "print(\"false positive rate:\", fpr*100)\n",
    "print(\"accuracy:\",  accuracy*100)\n",
    "print(\"F1-score:\", F1)\n",
    "print(\"AUC:\", roc_auc)"
   ]
  },
  {
   "cell_type": "code",
   "execution_count": 32,
   "metadata": {},
   "outputs": [
    {
     "data": {
      "image/png": "[encoded data removed]",
      "text/plain": [
       "<Figure size 432x288 with 1 Axes>"
      ]
     },
     "metadata": {
      "needs_background": "light"
     },
     "output_type": "display_data"
    }
   ],
   "source": [
    "#feature importance from Random Forest\n",
    "features = X_train_s.columns\n",
    "importances = m.feature_importances_[0:15]\n",
    "indices = np.argsort(importances)\n",
    "plt.title('Model Without One-Hot Encoding')\n",
    "plt.barh(range(len(indices)), importances[indices], color='b', align='center')\n",
    "plt.yticks(range(len(indices)), [features[i] for i in indices])\n",
    "plt.xlabel('Relative Importance')\n",
    "plt.show()"
   ]
  },
  {
   "cell_type": "markdown",
   "metadata": {},
   "source": [
    "## Model 3 - Gradient Boosting Classifier"
   ]
  },
  {
   "cell_type": "code",
   "execution_count": 34,
   "metadata": {
    "scrolled": false
   },
   "outputs": [
    {
     "data": {
      "image/png": "[encoded data removed]",
      "text/plain": [
       "<Figure size 432x288 with 2 Axes>"
      ]
     },
     "metadata": {
      "needs_background": "light"
     },
     "output_type": "display_data"
    },
    {
     "name": "stdout",
     "output_type": "stream",
     "text": [
      "precision: 70.25862068965517\n",
      "recall: 30.812854442344044\n",
      "false positive rate: 3.50076103500761\n",
      "accuracy: 82.6\n",
      "F1-score: 0.42838370565045997\n",
      "AUC: 0.6365604670366822\n"
     ]
    }
   ],
   "source": [
    "from sklearn.ensemble import GradientBoostingClassifier  #GBM algorithm\n",
    "m = GradientBoostingClassifier(n_estimators=2000, min_samples_leaf=200, max_features=0.5)\n",
    "m.fit(X_train, y_train)\n",
    "\n",
    "#confusion Matrix\n",
    "cm = confusion_matrix(y_valid, m.predict(X_valid))\n",
    "class_names = [0,1]\n",
    "plt.figure()\n",
    "plot_confusion_matrix(cm , classes=class_names, title='Confusion matrix')\n",
    "plt.show()\n",
    "tn, fp, fn, tp = cm.ravel()\n",
    "precision=tp/(tp+fp)\n",
    "recall=tp/(tp+fn)\n",
    "fpr = fp/(fp+ tn)\n",
    "accuracy = (tp + tn)/(tn + tp + fn + fp)\n",
    "F1 = 2 * (precision * recall) / (precision + recall)\n",
    "Fpr, tpr, thresholds = roc_curve(y_valid, m.predict(X_valid))\n",
    "roc_auc = auc(Fpr,tpr)\n",
    "print(\"precision:\", precision*100)\n",
    "print(\"recall:\", recall*100)\n",
    "print(\"false positive rate:\", fpr*100)\n",
    "print(\"accuracy:\",  accuracy*100)\n",
    "print(\"F1-score:\", F1)\n",
    "print(\"AUC:\", roc_auc)"
   ]
  }
 ],
 "metadata": {
  "kernelspec": {
   "display_name": "Python 3",
   "language": "python",
   "name": "python3"
  },
  "language_info": {
   "codemirror_mode": {
    "name": "ipython",
    "version": 3
   },
   "file_extension": ".py",
   "mimetype": "text/x-python",
   "name": "python",
   "nbconvert_exporter": "python",
   "pygments_lexer": "ipython3",
   "version": "3.6.8"
  }
 },
 "nbformat": 4,
 "nbformat_minor": 2
}
