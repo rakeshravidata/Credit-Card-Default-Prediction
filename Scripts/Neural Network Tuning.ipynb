{
 "cells": [
  {
   "cell_type": "markdown",
   "metadata": {},
   "source": [
    "# 1. Reading Data"
   ]
  },
  {
   "cell_type": "code",
   "execution_count": 45,
   "metadata": {},
   "outputs": [],
   "source": [
    "# Import General Libraries \n",
    "import pandas as pd\n",
    "import numpy as np\n",
    "import seaborn as sns\n",
    "import matplotlib.pyplot as plt\n",
    "from sklearn.preprocessing import StandardScaler\n",
    "from sklearn.manifold import TSNE\n",
    "from fastai.imports import *\n",
    "# from fastai.structured import *\n",
    "from sklearn.cluster import KMeans # KMeans clustering \n",
    "import matplotlib.pyplot as plt # Python defacto plotting library\n",
    "import seaborn as sns # More snazzy plotting library\n",
    "# from pandas_summary import DataFrameSummary\n",
    "from sklearn.ensemble import RandomForestRegressor, RandomForestClassifier\n",
    "from sklearn.metrics import confusion_matrix\n",
    "from sklearn.model_selection import GridSearchCV\n",
    "from sklearn.linear_model import LogisticRegression\n",
    "from sklearn.decomposition import PCA\n",
    "from sklearn.preprocessing import StandardScaler\n",
    "# from imblearn.over_sampling import SMOTE\n",
    "from keras.models import Sequential\n",
    "from keras.layers import Dense\n",
    "from keras.layers import Dense, Dropout, Activation\n",
    "from sklearn.metrics import confusion_matrix, precision_recall_curve, auc, roc_auc_score, roc_curve, recall_score, classification_report"
   ]
  },
  {
   "cell_type": "code",
   "execution_count": null,
   "metadata": {},
   "outputs": [],
   "source": [
    "#reading data\n",
    "df = pd.read_csv(\"/Users/rakeshravi/Downloads/UCI_Credit_Card.csv\")\n",
    "df[\"MARRIAGE\"].replace([0], 3, inplace=True)\n",
    "df[\"EDUCATION\"].replace([0,5,6], 4, inplace=True)\n",
    "collist = ['AGE','SEX','EDUCATION','MARRIAGE']\n",
    "for col in collist:\n",
    "    df[col] = df[col].astype('category',copy=False)"
   ]
  },
  {
   "cell_type": "markdown",
   "metadata": {},
   "source": [
    "##  Artificial Neural Network"
   ]
  },
  {
   "cell_type": "code",
   "execution_count": 13,
   "metadata": {
    "scrolled": false
   },
   "outputs": [
    {
     "name": "stderr",
     "output_type": "stream",
     "text": [
      "/anaconda3/lib/python3.6/site-packages/sklearn/preprocessing/data.py:625: DataConversionWarning: Data with input dtype uint8, int64, float64 were all converted to float64 by StandardScaler.\n",
      "  return self.partial_fit(X, y)\n",
      "/anaconda3/lib/python3.6/site-packages/sklearn/base.py:462: DataConversionWarning: Data with input dtype uint8, int64, float64 were all converted to float64 by StandardScaler.\n",
      "  return self.fit(X, **fit_params).transform(X)\n",
      "/anaconda3/lib/python3.6/site-packages/sklearn/preprocessing/data.py:625: DataConversionWarning: Data with input dtype uint8, int64, float64 were all converted to float64 by StandardScaler.\n",
      "  return self.partial_fit(X, y)\n",
      "/anaconda3/lib/python3.6/site-packages/sklearn/base.py:462: DataConversionWarning: Data with input dtype uint8, int64, float64 were all converted to float64 by StandardScaler.\n",
      "  return self.fit(X, **fit_params).transform(X)\n"
     ]
    }
   ],
   "source": [
    "#data prep for Neural Network\n",
    "\n",
    "#converting sex, marriage, age and education into one-hot\n",
    "df = pd.get_dummies(df)\n",
    "df.rename(columns={'default.payment.next.month':'default'}, inplace=True)\n",
    "y = df[\"default\"]\n",
    "df = df.drop([\"default\"], axis = 1)\n",
    "\n",
    "#train and test splitting\n",
    "def split_vals(a,n): \n",
    "    return a[:n].copy(), a[n:].copy()\n",
    "\n",
    "n_valid = 5000  \n",
    "n_trn = len(df)-n_valid\n",
    "raw_train, raw_valid = split_vals(df, n_trn)\n",
    "X_train, X_valid = split_vals(df, n_trn)\n",
    "y_train, y_valid = split_vals(y, n_trn)\n",
    "\n",
    "X_train_IDs = X_train[\"ID\"]\n",
    "X_train.drop([\"ID\"], axis = 1, inplace = True)\n",
    "X_valid_IDs = X_valid[\"ID\"]\n",
    "X_valid.drop([\"ID\"], axis = 1, inplace = True)\n",
    "\n",
    "#standardising training and testing datasets to ensure that features are normalized\n",
    "X_train = StandardScaler().fit_transform(X_train)\n",
    "X_valid = StandardScaler().fit_transform(X_valid)"
   ]
  },
  {
   "cell_type": "code",
   "execution_count": 16,
   "metadata": {},
   "outputs": [
    {
     "data": {
      "text/plain": [
       "(25000, 84)"
      ]
     },
     "execution_count": 16,
     "metadata": {},
     "output_type": "execute_result"
    }
   ],
   "source": [
    "X_train.shape"
   ]
  },
  {
   "cell_type": "markdown",
   "metadata": {},
   "source": [
    "## Iteration 1"
   ]
  },
  {
   "cell_type": "code",
   "execution_count": 32,
   "metadata": {
    "scrolled": false
   },
   "outputs": [
    {
     "name": "stderr",
     "output_type": "stream",
     "text": [
      "/anaconda3/lib/python3.6/site-packages/ipykernel_launcher.py:5: UserWarning: Update your `Dense` call to the Keras 2 API: `Dense(12, input_dim=84, activation=\"relu\", kernel_initializer=\"uniform\")`\n",
      "  \"\"\"\n",
      "/anaconda3/lib/python3.6/site-packages/ipykernel_launcher.py:6: UserWarning: Update your `Dense` call to the Keras 2 API: `Dense(20, activation=\"relu\", kernel_initializer=\"uniform\")`\n",
      "  \n",
      "/anaconda3/lib/python3.6/site-packages/ipykernel_launcher.py:7: UserWarning: Update your `Dense` call to the Keras 2 API: `Dense(1, activation=\"sigmoid\", kernel_initializer=\"uniform\")`\n",
      "  import sys\n"
     ]
    },
    {
     "name": "stdout",
     "output_type": "stream",
     "text": [
      "Epoch 1/10\n",
      "25000/25000 [==============================] - 2s 76us/step - loss: 0.5541 - acc: 0.7766\n",
      "Epoch 2/10\n",
      "25000/25000 [==============================] - 1s 55us/step - loss: 0.5306 - acc: 0.7769\n",
      "Epoch 3/10\n",
      "25000/25000 [==============================] - 1s 54us/step - loss: 0.5299 - acc: 0.7769\n",
      "Epoch 4/10\n",
      "25000/25000 [==============================] - 1s 55us/step - loss: 0.5266 - acc: 0.7769\n",
      "Epoch 5/10\n",
      "25000/25000 [==============================] - 2s 65us/step - loss: 0.5009 - acc: 0.7806: 0s - loss: 0.5152 - acc: - ETA: 0s - loss: 0.5100 - a\n",
      "Epoch 6/10\n",
      "25000/25000 [==============================] - 1s 60us/step - loss: 0.4634 - acc: 0.8047\n",
      "Epoch 7/10\n",
      "25000/25000 [==============================] - 2s 62us/step - loss: 0.4565 - acc: 0.8098\n",
      "Epoch 8/10\n",
      "25000/25000 [==============================] - 1s 54us/step - loss: 0.4540 - acc: 0.8127\n",
      "Epoch 9/10\n",
      "25000/25000 [==============================] - 1s 57us/step - loss: 0.4522 - acc: 0.8157: 0s - loss: 0.4475 - a\n",
      "Epoch 10/10\n",
      "25000/25000 [==============================] - 1s 54us/step - loss: 0.4500 - acc: 0.8169\n"
     ]
    },
    {
     "data": {
      "image/png": "[encoded data removed]",
      "text/plain": [
       "<Figure size 432x288 with 2 Axes>"
      ]
     },
     "metadata": {
      "needs_background": "light"
     },
     "output_type": "display_data"
    },
    {
     "name": "stdout",
     "output_type": "stream",
     "text": [
      "precision: 70.66666666666667\n",
      "recall: 35.06616257088847\n",
      "false positive rate: 3.9066463723997966\n",
      "accuracy 83.17999999999999\n",
      "F1-score 0.4687302590018952\n",
      "AUC 0.6557975809924435\n"
     ]
    }
   ],
   "source": [
    "#ANN model building and fitting\n",
    "#optimizer - sgd\n",
    "#drop in layers\n",
    "model = Sequential()\n",
    "model.add(Dense(12, input_dim=84, init='uniform', activation='relu'))\n",
    "model.add(Dense(20, init='uniform', activation='relu'))\n",
    "model.add(Dense(1, init='uniform', activation='sigmoid'))\n",
    "model.compile(loss='binary_crossentropy', optimizer='sgd', metrics=['accuracy'])\n",
    "model.fit(X_train, y_train, epochs=10, batch_size=16,  verbose=1)\n",
    "predictions = model.predict(X_valid)\n",
    "rounded = [round(x[0]) for x in predictions]\n",
    "\n",
    "\n",
    "#confusion Matrix\n",
    "cm = confusion_matrix(y_valid, rounded)\n",
    "class_names = [0,1]\n",
    "plt.figure()\n",
    "plot_confusion_matrix(cm , classes=class_names, title='Confusion matrix')\n",
    "plt.show()\n",
    "tn, fp, fn, tp = cm.ravel()\n",
    "precision=tp/(tp+fp)\n",
    "recall=tp/(tp+fn)\n",
    "fpr = fp/(fp+ tn)\n",
    "accuracy = (tp + tn)/(tn + tp + fn + fp)\n",
    "F1 = 2 * (precision * recall) / (precision + recall)\n",
    "Fpr, tpr, thresholds = roc_curve(y_valid, rounded)\n",
    "roc_auc = auc(Fpr,tpr)\n",
    "print(\"precision:\", precision*100)\n",
    "print(\"recall:\", recall*100)\n",
    "print(\"false positive rate:\", fpr*100)\n",
    "print(\"accuracy\",  accuracy*100)\n",
    "print(\"F1-score\", F1)\n",
    "print(\"AUC\", roc_auc)"
   ]
  },
  {
   "cell_type": "markdown",
   "metadata": {},
   "source": [
    "## Iteration 2"
   ]
  },
  {
   "cell_type": "code",
   "execution_count": 31,
   "metadata": {
    "scrolled": false
   },
   "outputs": [
    {
     "name": "stderr",
     "output_type": "stream",
     "text": [
      "/anaconda3/lib/python3.6/site-packages/ipykernel_launcher.py:4: UserWarning: Update your `Dense` call to the Keras 2 API: `Dense(12, input_dim=84, activation=\"relu\", kernel_initializer=\"uniform\")`\n",
      "  after removing the cwd from sys.path.\n",
      "/anaconda3/lib/python3.6/site-packages/ipykernel_launcher.py:5: UserWarning: Update your `Dense` call to the Keras 2 API: `Dense(20, activation=\"relu\", kernel_initializer=\"uniform\")`\n",
      "  \"\"\"\n",
      "/anaconda3/lib/python3.6/site-packages/ipykernel_launcher.py:6: UserWarning: Update your `Dense` call to the Keras 2 API: `Dense(1, activation=\"sigmoid\", kernel_initializer=\"uniform\")`\n",
      "  \n"
     ]
    },
    {
     "name": "stdout",
     "output_type": "stream",
     "text": [
      "Epoch 1/10\n",
      "25000/25000 [==============================] - 2s 82us/step - loss: 0.4973 - acc: 0.7768: 0s - loss: 0.4990 - acc:\n",
      "Epoch 2/10\n",
      "25000/25000 [==============================] - 2s 68us/step - loss: 0.4804 - acc: 0.7826\n",
      "Epoch 3/10\n",
      "25000/25000 [==============================] - 2s 62us/step - loss: 0.4750 - acc: 0.7968\n",
      "Epoch 4/10\n",
      "25000/25000 [==============================] - 2s 73us/step - loss: 0.4683 - acc: 0.8022: 0s - loss: 0.4689 - acc: 0.80\n",
      "Epoch 5/10\n",
      "25000/25000 [==============================] - 2s 72us/step - loss: 0.4658 - acc: 0.8026\n",
      "Epoch 6/10\n",
      "25000/25000 [==============================] - 1s 59us/step - loss: 0.4622 - acc: 0.8090\n",
      "Epoch 7/10\n",
      "25000/25000 [==============================] - 2s 65us/step - loss: 0.4597 - acc: 0.8091\n",
      "Epoch 8/10\n",
      "25000/25000 [==============================] - 2s 71us/step - loss: 0.4573 - acc: 0.8099: 0s - loss: 0.4585\n",
      "Epoch 9/10\n",
      "25000/25000 [==============================] - 2s 72us/step - loss: 0.4564 - acc: 0.8100\n",
      "Epoch 10/10\n",
      "25000/25000 [==============================] - 2s 66us/step - loss: 0.4551 - acc: 0.8120: 0s - loss: 0.4585 - acc: 0.808 - ETA: 0s - loss: 0.4580 - acc: 0\n"
     ]
    },
    {
     "data": {
      "image/png": "[encoded data removed]",
      "text/plain": [
       "<Figure size 432x288 with 2 Axes>"
      ]
     },
     "metadata": {
      "needs_background": "light"
     },
     "output_type": "display_data"
    },
    {
     "name": "stdout",
     "output_type": "stream",
     "text": [
      "precision: 67.68916155419224\n",
      "recall: 31.285444234404537\n",
      "false positive rate: 4.008117706747844\n",
      "accuracy 82.3\n",
      "F1-score 0.42792501616031026\n",
      "AUC 0.6363866326382834\n"
     ]
    }
   ],
   "source": [
    "#ANN model building and fitting\n",
    "#optimizer - rmsprop\n",
    "model = Sequential()\n",
    "model.add(Dense(12, input_dim=84, init='uniform', activation='relu'))\n",
    "model.add(Dense(20, init='uniform', activation='relu'))\n",
    "model.add(Dense(1, init='uniform', activation='sigmoid'))\n",
    "model.compile(loss='binary_crossentropy', optimizer='rmsprop', metrics=['accuracy'])\n",
    "model.fit(X_train, y_train, epochs=10, batch_size=16,  verbose=1)\n",
    "predictions = model.predict(X_valid)\n",
    "rounded = [round(x[0]) for x in predictions]\n",
    "\n",
    "\n",
    "#confusion Matrix\n",
    "cm = confusion_matrix(y_valid, rounded)\n",
    "class_names = [0,1]\n",
    "plt.figure()\n",
    "plot_confusion_matrix(cm , classes=class_names, title='Confusion matrix')\n",
    "plt.show()\n",
    "tn, fp, fn, tp = cm.ravel()\n",
    "precision=tp/(tp+fp)\n",
    "recall=tp/(tp+fn)\n",
    "fpr = fp/(fp+ tn)\n",
    "accuracy = (tp + tn)/(tn + tp + fn + fp)\n",
    "F1 = 2 * (precision * recall) / (precision + recall)\n",
    "Fpr, tpr, thresholds = roc_curve(y_valid, rounded)\n",
    "roc_auc = auc(Fpr,tpr)\n",
    "print(\"precision:\", precision*100)\n",
    "print(\"recall:\", recall*100)\n",
    "print(\"false positive rate:\", fpr*100)\n",
    "print(\"accuracy\",  accuracy*100)\n",
    "print(\"F1-score\", F1)\n",
    "print(\"AUC\", roc_auc)"
   ]
  },
  {
   "cell_type": "markdown",
   "metadata": {},
   "source": [
    "## Iteration 3"
   ]
  },
  {
   "cell_type": "code",
   "execution_count": 30,
   "metadata": {
    "scrolled": false
   },
   "outputs": [
    {
     "name": "stderr",
     "output_type": "stream",
     "text": [
      "/anaconda3/lib/python3.6/site-packages/ipykernel_launcher.py:4: UserWarning: Update your `Dense` call to the Keras 2 API: `Dense(12, input_dim=84, activation=\"relu\", kernel_initializer=\"uniform\")`\n",
      "  after removing the cwd from sys.path.\n",
      "/anaconda3/lib/python3.6/site-packages/ipykernel_launcher.py:5: UserWarning: Update your `Dense` call to the Keras 2 API: `Dense(20, activation=\"relu\", kernel_initializer=\"uniform\")`\n",
      "  \"\"\"\n",
      "/anaconda3/lib/python3.6/site-packages/ipykernel_launcher.py:6: UserWarning: Update your `Dense` call to the Keras 2 API: `Dense(1, activation=\"sigmoid\", kernel_initializer=\"uniform\")`\n",
      "  \n"
     ]
    },
    {
     "name": "stdout",
     "output_type": "stream",
     "text": [
      "Epoch 1/10\n",
      "25000/25000 [==============================] - 3s 104us/step - loss: 0.4930 - acc: 0.7846\n",
      "Epoch 2/10\n",
      "25000/25000 [==============================] - 2s 75us/step - loss: 0.4676 - acc: 0.8083\n",
      "Epoch 3/10\n",
      "25000/25000 [==============================] - 2s 70us/step - loss: 0.4599 - acc: 0.8124\n",
      "Epoch 4/10\n",
      "25000/25000 [==============================] - 2s 71us/step - loss: 0.4538 - acc: 0.8150\n",
      "Epoch 5/10\n",
      "25000/25000 [==============================] - 2s 68us/step - loss: 0.4503 - acc: 0.8148\n",
      "Epoch 6/10\n",
      "25000/25000 [==============================] - 2s 79us/step - loss: 0.4474 - acc: 0.8159\n",
      "Epoch 7/10\n",
      "25000/25000 [==============================] - 2s 69us/step - loss: 0.4466 - acc: 0.8165\n",
      "Epoch 8/10\n",
      "25000/25000 [==============================] - 2s 70us/step - loss: 0.4454 - acc: 0.8158: 1s - loss\n",
      "Epoch 9/10\n",
      "25000/25000 [==============================] - 2s 66us/step - loss: 0.4451 - acc: 0.8150\n",
      "Epoch 10/10\n",
      "25000/25000 [==============================] - 2s 65us/step - loss: 0.4441 - acc: 0.8176\n"
     ]
    },
    {
     "data": {
      "image/png": "[encoded data removed]",
      "text/plain": [
       "<Figure size 432x288 with 2 Axes>"
      ]
     },
     "metadata": {
      "needs_background": "light"
     },
     "output_type": "display_data"
    },
    {
     "name": "stdout",
     "output_type": "stream",
     "text": [
      "precision: 63.981762917933125\n",
      "recall: 39.79206049149339\n",
      "false positive rate: 6.012176560121765\n",
      "accuracy 82.52000000000001\n",
      "F1-score 0.49067599067599066\n",
      "AUC 0.6688994196568581\n"
     ]
    }
   ],
   "source": [
    "#ANN model building and fitting\n",
    "#optimizer - adam\n",
    "model = Sequential()\n",
    "model.add(Dense(12, input_dim=84, init='uniform', activation='relu'))\n",
    "model.add(Dense(20, init='uniform', activation='relu'))\n",
    "model.add(Dense(1, init='uniform', activation='sigmoid'))\n",
    "model.compile(loss='binary_crossentropy', optimizer='adam', metrics=['accuracy'])\n",
    "model.fit(X_train, y_train, epochs=10, batch_size=16,  verbose=1)\n",
    "predictions = model.predict(X_valid)\n",
    "rounded = [round(x[0]) for x in predictions]\n",
    "\n",
    "\n",
    "#confusion Matrix\n",
    "cm = confusion_matrix(y_valid, rounded)\n",
    "class_names = [0,1]\n",
    "plt.figure()\n",
    "plot_confusion_matrix(cm , classes=class_names, title='Confusion matrix')\n",
    "plt.show()\n",
    "tn, fp, fn, tp = cm.ravel()\n",
    "precision=tp/(tp+fp)\n",
    "recall=tp/(tp+fn)\n",
    "fpr = fp/(fp+ tn)\n",
    "accuracy = (tp + tn)/(tn + tp + fn + fp)\n",
    "F1 = 2 * (precision * recall) / (precision + recall)\n",
    "Fpr, tpr, thresholds = roc_curve(y_valid, rounded)\n",
    "roc_auc = auc(Fpr,tpr)\n",
    "print(\"precision:\", precision*100)\n",
    "print(\"recall:\", recall*100)\n",
    "print(\"false positive rate:\", fpr*100)\n",
    "print(\"accuracy\",  accuracy*100)\n",
    "print(\"F1-score\", F1)\n",
    "print(\"AUC\", roc_auc)"
   ]
  },
  {
   "cell_type": "markdown",
   "metadata": {},
   "source": [
    "## Iteration 4"
   ]
  },
  {
   "cell_type": "code",
   "execution_count": 36,
   "metadata": {},
   "outputs": [
    {
     "name": "stderr",
     "output_type": "stream",
     "text": [
      "/anaconda3/lib/python3.6/site-packages/ipykernel_launcher.py:4: UserWarning: Update your `Dense` call to the Keras 2 API: `Dense(50, input_dim=84, activation=\"relu\", kernel_initializer=\"uniform\")`\n",
      "  after removing the cwd from sys.path.\n",
      "/anaconda3/lib/python3.6/site-packages/ipykernel_launcher.py:5: UserWarning: Update your `Dense` call to the Keras 2 API: `Dense(30, activation=\"relu\", kernel_initializer=\"uniform\")`\n",
      "  \"\"\"\n",
      "/anaconda3/lib/python3.6/site-packages/ipykernel_launcher.py:6: UserWarning: Update your `Dense` call to the Keras 2 API: `Dense(20, activation=\"relu\", kernel_initializer=\"uniform\")`\n",
      "  \n",
      "/anaconda3/lib/python3.6/site-packages/ipykernel_launcher.py:7: UserWarning: Update your `Dense` call to the Keras 2 API: `Dense(10, activation=\"relu\", kernel_initializer=\"uniform\")`\n",
      "  import sys\n",
      "/anaconda3/lib/python3.6/site-packages/ipykernel_launcher.py:8: UserWarning: Update your `Dense` call to the Keras 2 API: `Dense(5, activation=\"relu\", kernel_initializer=\"uniform\")`\n",
      "  \n",
      "/anaconda3/lib/python3.6/site-packages/ipykernel_launcher.py:9: UserWarning: Update your `Dense` call to the Keras 2 API: `Dense(1, activation=\"sigmoid\", kernel_initializer=\"uniform\")`\n",
      "  if __name__ == '__main__':\n"
     ]
    },
    {
     "name": "stdout",
     "output_type": "stream",
     "text": [
      "Epoch 1/10\n",
      "25000/25000 [==============================] - 3s 139us/step - loss: 0.4968 - acc: 0.7766\n",
      "Epoch 2/10\n",
      "25000/25000 [==============================] - 2s 97us/step - loss: 0.4773 - acc: 0.7858\n",
      "Epoch 3/10\n",
      "25000/25000 [==============================] - 3s 106us/step - loss: 0.4741 - acc: 0.7982 0s - loss: 0.4747 - a\n",
      "Epoch 4/10\n",
      "25000/25000 [==============================] - 2s 92us/step - loss: 0.4726 - acc: 0.8026\n",
      "Epoch 5/10\n",
      "25000/25000 [==============================] - 2s 93us/step - loss: 0.4697 - acc: 0.8057\n",
      "Epoch 6/10\n",
      "25000/25000 [==============================] - 3s 107us/step - loss: 0.4595 - acc: 0.8111\n",
      "Epoch 7/10\n",
      "25000/25000 [==============================] - 3s 116us/step - loss: 0.4532 - acc: 0.8108\n",
      "Epoch 8/10\n",
      "25000/25000 [==============================] - 3s 110us/step - loss: 0.4505 - acc: 0.8118\n",
      "Epoch 9/10\n",
      "25000/25000 [==============================] - 3s 110us/step - loss: 0.4476 - acc: 0.8129\n",
      "Epoch 10/10\n",
      "25000/25000 [==============================] - 3s 108us/step - loss: 0.4454 - acc: 0.8133\n"
     ]
    },
    {
     "data": {
      "image/png": "[encoded data removed]",
      "text/plain": [
       "<Figure size 432x288 with 2 Axes>"
      ]
     },
     "metadata": {
      "needs_background": "light"
     },
     "output_type": "display_data"
    },
    {
     "name": "stdout",
     "output_type": "stream",
     "text": [
      "precision: 67.25521669341894\n",
      "recall: 39.603024574669185\n",
      "false positive rate: 5.175038051750381\n",
      "accuracy 83.14\n",
      "F1-score 0.4985127900059489\n",
      "AUC 0.672139932614594\n"
     ]
    }
   ],
   "source": [
    "#ANN model building and fitting\n",
    "#picking a basic configuration\n",
    "#slow decrement of units to learn more from each layer\n",
    "model = Sequential()\n",
    "model.add(Dense(50, input_dim=84, init='uniform', activation='relu'))\n",
    "model.add(Dense(30, init='uniform', activation='relu'))\n",
    "model.add(Dense(20, init='uniform', activation='relu'))\n",
    "model.add(Dense(10, init='uniform', activation='relu'))\n",
    "model.add(Dense(5, init='uniform', activation='relu'))\n",
    "model.add(Dense(1, init='uniform', activation='sigmoid'))\n",
    "model.compile(loss='binary_crossentropy', optimizer='adam', metrics=['accuracy'])\n",
    "model.fit(X_train, y_train, epochs=10, batch_size=16,  verbose=1)\n",
    "predictions = model.predict(X_valid)\n",
    "rounded = [round(x[0]) for x in predictions]\n",
    "\n",
    "#confusion Matrix\n",
    "cm = confusion_matrix(y_valid, rounded)\n",
    "class_names = [0,1]\n",
    "plt.figure()\n",
    "plot_confusion_matrix(cm , classes=class_names, title='Confusion matrix')\n",
    "plt.show()\n",
    "tn, fp, fn, tp = cm.ravel()\n",
    "precision=tp/(tp+fp)\n",
    "recall=tp/(tp+fn)\n",
    "fpr = fp/(fp+ tn)\n",
    "accuracy = (tp + tn)/(tn + tp + fn + fp)\n",
    "F1 = 2 * (precision * recall) / (precision + recall)\n",
    "Fpr, tpr, thresholds = roc_curve(y_valid, rounded)\n",
    "roc_auc = auc(Fpr,tpr)\n",
    "print(\"precision:\", precision*100)\n",
    "print(\"recall:\", recall*100)\n",
    "print(\"false positive rate:\", fpr*100)\n",
    "print(\"accuracy\",  accuracy*100)\n",
    "print(\"F1-score\", F1)\n",
    "print(\"AUC\", roc_auc)"
   ]
  },
  {
   "cell_type": "markdown",
   "metadata": {},
   "source": [
    "## Iteration 5"
   ]
  },
  {
   "cell_type": "code",
   "execution_count": 37,
   "metadata": {},
   "outputs": [
    {
     "name": "stderr",
     "output_type": "stream",
     "text": [
      "/anaconda3/lib/python3.6/site-packages/ipykernel_launcher.py:5: UserWarning: Update your `Dense` call to the Keras 2 API: `Dense(50, input_dim=84, activation=\"relu\", kernel_initializer=\"uniform\")`\n",
      "  \"\"\"\n",
      "/anaconda3/lib/python3.6/site-packages/ipykernel_launcher.py:6: UserWarning: Update your `Dense` call to the Keras 2 API: `Dense(30, activation=\"relu\", kernel_initializer=\"uniform\")`\n",
      "  \n",
      "/anaconda3/lib/python3.6/site-packages/ipykernel_launcher.py:7: UserWarning: Update your `Dense` call to the Keras 2 API: `Dense(20, activation=\"relu\", kernel_initializer=\"uniform\")`\n",
      "  import sys\n",
      "/anaconda3/lib/python3.6/site-packages/ipykernel_launcher.py:8: UserWarning: Update your `Dense` call to the Keras 2 API: `Dense(10, activation=\"relu\", kernel_initializer=\"uniform\")`\n",
      "  \n",
      "/anaconda3/lib/python3.6/site-packages/ipykernel_launcher.py:9: UserWarning: Update your `Dense` call to the Keras 2 API: `Dense(5, activation=\"relu\", kernel_initializer=\"uniform\")`\n",
      "  if __name__ == '__main__':\n",
      "/anaconda3/lib/python3.6/site-packages/ipykernel_launcher.py:10: UserWarning: Update your `Dense` call to the Keras 2 API: `Dense(1, activation=\"sigmoid\", kernel_initializer=\"uniform\")`\n",
      "  # Remove the CWD from sys.path while we load stuff.\n"
     ]
    },
    {
     "name": "stdout",
     "output_type": "stream",
     "text": [
      "Epoch 1/10\n",
      "25000/25000 [==============================] - 1s 46us/step - loss: 0.5557 - acc: 0.7769\n",
      "Epoch 2/10\n",
      "25000/25000 [==============================] - 0s 13us/step - loss: 0.4794 - acc: 0.7769\n",
      "Epoch 3/10\n",
      "25000/25000 [==============================] - 0s 13us/step - loss: 0.4723 - acc: 0.7769\n",
      "Epoch 4/10\n",
      "25000/25000 [==============================] - 0s 13us/step - loss: 0.4653 - acc: 0.7808\n",
      "Epoch 5/10\n",
      "25000/25000 [==============================] - 0s 13us/step - loss: 0.4572 - acc: 0.8146\n",
      "Epoch 6/10\n",
      "25000/25000 [==============================] - 0s 13us/step - loss: 0.4528 - acc: 0.8137\n",
      "Epoch 7/10\n",
      "25000/25000 [==============================] - 0s 13us/step - loss: 0.4501 - acc: 0.8152\n",
      "Epoch 8/10\n",
      "25000/25000 [==============================] - 0s 13us/step - loss: 0.4475 - acc: 0.8156\n",
      "Epoch 9/10\n",
      "25000/25000 [==============================] - 0s 13us/step - loss: 0.4459 - acc: 0.8154\n",
      "Epoch 10/10\n",
      "25000/25000 [==============================] - 0s 13us/step - loss: 0.4438 - acc: 0.8164\n"
     ]
    },
    {
     "data": {
      "image/png": "[encoded data removed]",
      "text/plain": [
       "<Figure size 432x288 with 2 Axes>"
      ]
     },
     "metadata": {
      "needs_background": "light"
     },
     "output_type": "display_data"
    },
    {
     "name": "stdout",
     "output_type": "stream",
     "text": [
      "precision: 65.17189835575485\n",
      "recall: 41.209829867674856\n",
      "false positive rate: 5.910705225773719\n",
      "accuracy 82.89999999999999\n",
      "F1-score 0.504921829762594\n",
      "AUC 0.6764956232095057\n"
     ]
    }
   ],
   "source": [
    "#ANN model building and fitting\n",
    "#picking a basic configuration\n",
    "#slow decrement of units to learn more from each layer\n",
    "#increasing batch size to 128 to get a larger read of data\n",
    "model = Sequential()\n",
    "model.add(Dense(50, input_dim=84, init='uniform', activation='relu'))\n",
    "model.add(Dense(30, init='uniform', activation='relu'))\n",
    "model.add(Dense(20, init='uniform', activation='relu'))\n",
    "model.add(Dense(10, init='uniform', activation='relu'))\n",
    "model.add(Dense(5, init='uniform', activation='relu'))\n",
    "model.add(Dense(1, init='uniform', activation='sigmoid'))\n",
    "model.compile(loss='binary_crossentropy', optimizer='adam', metrics=['accuracy'])\n",
    "model.fit(X_train, y_train, epochs=10, batch_size=128,  verbose=1)\n",
    "predictions = model.predict(X_valid)\n",
    "rounded = [round(x[0]) for x in predictions]\n",
    "\n",
    "#confusion Matric\n",
    "cm = confusion_matrix(y_valid, rounded)\n",
    "class_names = [0,1]\n",
    "plt.figure()\n",
    "plot_confusion_matrix(cm , classes=class_names, title='Confusion matrix')\n",
    "plt.show()\n",
    "tn, fp, fn, tp = cm.ravel()\n",
    "precision=tp/(tp+fp)\n",
    "recall=tp/(tp+fn)\n",
    "fpr = fp/(fp+ tn)\n",
    "accuracy = (tp + tn)/(tn + tp + fn + fp)\n",
    "F1 = 2 * (precision * recall) / (precision + recall)\n",
    "Fpr, tpr, thresholds = roc_curve(y_valid, rounded)\n",
    "roc_auc = auc(Fpr,tpr)\n",
    "print(\"precision:\", precision*100)\n",
    "print(\"recall:\", recall*100)\n",
    "print(\"false positive rate:\", fpr*100)\n",
    "print(\"accuracy\",  accuracy*100)\n",
    "print(\"F1-score\", F1)\n",
    "print(\"AUC\", roc_auc)"
   ]
  },
  {
   "cell_type": "markdown",
   "metadata": {},
   "source": [
    "## Iteration 6 "
   ]
  },
  {
   "cell_type": "code",
   "execution_count": 43,
   "metadata": {},
   "outputs": [
    {
     "name": "stderr",
     "output_type": "stream",
     "text": [
      "/anaconda3/lib/python3.6/site-packages/ipykernel_launcher.py:6: UserWarning: Update your `Dense` call to the Keras 2 API: `Dense(50, input_dim=84, activation=\"relu\", kernel_initializer=\"uniform\")`\n",
      "  \n",
      "/anaconda3/lib/python3.6/site-packages/ipykernel_launcher.py:7: UserWarning: Update your `Dense` call to the Keras 2 API: `Dense(30, activation=\"relu\", kernel_initializer=\"uniform\")`\n",
      "  import sys\n",
      "/anaconda3/lib/python3.6/site-packages/ipykernel_launcher.py:8: UserWarning: Update your `Dense` call to the Keras 2 API: `Dense(20, activation=\"relu\", kernel_initializer=\"uniform\")`\n",
      "  \n",
      "/anaconda3/lib/python3.6/site-packages/ipykernel_launcher.py:9: UserWarning: Update your `Dense` call to the Keras 2 API: `Dense(10, activation=\"relu\", kernel_initializer=\"uniform\")`\n",
      "  if __name__ == '__main__':\n",
      "/anaconda3/lib/python3.6/site-packages/ipykernel_launcher.py:10: UserWarning: Update your `Dense` call to the Keras 2 API: `Dense(5, activation=\"relu\", kernel_initializer=\"uniform\")`\n",
      "  # Remove the CWD from sys.path while we load stuff.\n",
      "/anaconda3/lib/python3.6/site-packages/ipykernel_launcher.py:11: UserWarning: Update your `Dense` call to the Keras 2 API: `Dense(1, activation=\"sigmoid\", kernel_initializer=\"uniform\")`\n",
      "  # This is added back by InteractiveShellApp.init_path()\n"
     ]
    },
    {
     "data": {
      "image/png": "[encoded data removed]",
      "text/plain": [
       "<Figure size 432x288 with 2 Axes>"
      ]
     },
     "metadata": {
      "needs_background": "light"
     },
     "output_type": "display_data"
    },
    {
     "name": "stdout",
     "output_type": "stream",
     "text": [
      "precision: 57.59312320916905\n",
      "recall: 37.99621928166352\n",
      "false positive rate: 7.508878741755454\n",
      "accuracy 80.96\n",
      "F1-score 0.4578587699316628\n",
      "AUC 0.6524367026995403\n"
     ]
    }
   ],
   "source": [
    "#ANN model building and fitting\n",
    "#picking a basic configuration\n",
    "#slow decrement of units to learn more from each layer\n",
    "#increasing batch size to 128 to get a larger read of data\n",
    "#increasing the number of epochs to cover a larger chunk of data\n",
    "model = Sequential()\n",
    "model.add(Dense(50, input_dim=84, init='uniform', activation='relu'))\n",
    "model.add(Dense(30, init='uniform', activation='relu'))\n",
    "model.add(Dense(20, init='uniform', activation='relu'))\n",
    "model.add(Dense(10, init='uniform', activation='relu'))\n",
    "model.add(Dense(5, init='uniform', activation='relu'))\n",
    "model.add(Dense(1, init='uniform', activation='sigmoid'))\n",
    "model.compile(loss='binary_crossentropy', optimizer='adam', metrics=['accuracy'])\n",
    "model.fit(X_train, y_train, epochs=100, batch_size=128,  verbose=0)\n",
    "predictions = model.predict(X_valid)\n",
    "rounded = [round(x[0]) for x in predictions]\n",
    "\n",
    "#confusion Matric\n",
    "cm = confusion_matrix(y_valid, rounded)\n",
    "class_names = [0,1]\n",
    "plt.figure()\n",
    "plot_confusion_matrix(cm , classes=class_names, title='Confusion matrix')\n",
    "plt.show()\n",
    "tn, fp, fn, tp = cm.ravel()\n",
    "precision=tp/(tp+fp)\n",
    "recall=tp/(tp+fn)\n",
    "fpr = fp/(fp+ tn)\n",
    "accuracy = (tp + tn)/(tn + tp + fn + fp)\n",
    "F1 = 2 * (precision * recall) / (precision + recall)\n",
    "Fpr, tpr, thresholds = roc_curve(y_valid, rounded)\n",
    "roc_auc = auc(Fpr,tpr)\n",
    "print(\"precision:\", precision*100)\n",
    "print(\"recall:\", recall*100)\n",
    "print(\"false positive rate:\", fpr*100)\n",
    "print(\"accuracy\",  accuracy*100)\n",
    "print(\"F1-score\", F1)\n",
    "print(\"AUC\", roc_auc)"
   ]
  },
  {
   "cell_type": "markdown",
   "metadata": {},
   "source": [
    "## Iteration 7"
   ]
  },
  {
   "cell_type": "code",
   "execution_count": 47,
   "metadata": {},
   "outputs": [
    {
     "name": "stderr",
     "output_type": "stream",
     "text": [
      "/anaconda3/lib/python3.6/site-packages/ipykernel_launcher.py:6: UserWarning: Update your `Dense` call to the Keras 2 API: `Dense(50, input_dim=84, activation=\"relu\", kernel_initializer=\"uniform\")`\n",
      "  \n",
      "/anaconda3/lib/python3.6/site-packages/ipykernel_launcher.py:8: UserWarning: Update your `Dense` call to the Keras 2 API: `Dense(30, activation=\"relu\", kernel_initializer=\"uniform\")`\n",
      "  \n",
      "/anaconda3/lib/python3.6/site-packages/ipykernel_launcher.py:9: UserWarning: Update your `Dense` call to the Keras 2 API: `Dense(20, activation=\"relu\", kernel_initializer=\"uniform\")`\n",
      "  if __name__ == '__main__':\n",
      "/anaconda3/lib/python3.6/site-packages/ipykernel_launcher.py:10: UserWarning: Update your `Dense` call to the Keras 2 API: `Dense(10, activation=\"relu\", kernel_initializer=\"uniform\")`\n",
      "  # Remove the CWD from sys.path while we load stuff.\n",
      "/anaconda3/lib/python3.6/site-packages/ipykernel_launcher.py:11: UserWarning: Update your `Dense` call to the Keras 2 API: `Dense(5, activation=\"relu\", kernel_initializer=\"uniform\")`\n",
      "  # This is added back by InteractiveShellApp.init_path()\n",
      "/anaconda3/lib/python3.6/site-packages/ipykernel_launcher.py:12: UserWarning: Update your `Dense` call to the Keras 2 API: `Dense(1, activation=\"sigmoid\", kernel_initializer=\"uniform\")`\n",
      "  if sys.path[0] == '':\n"
     ]
    },
    {
     "data": {
      "image/png": "[encoded data removed]",
      "text/plain": [
       "<Figure size 432x288 with 2 Axes>"
      ]
     },
     "metadata": {
      "needs_background": "light"
     },
     "output_type": "display_data"
    },
    {
     "name": "stdout",
     "output_type": "stream",
     "text": [
      "precision: 65.16329704510109\n",
      "recall: 39.603024574669185\n",
      "false positive rate: 5.682394723490614\n",
      "accuracy 82.74000000000001\n",
      "F1-score 0.49265138154027033\n",
      "AUC 0.6696031492558929\n"
     ]
    }
   ],
   "source": [
    "#looks like we might have overfit the data\n",
    "#picking a basic configuration\n",
    "#slow decrement of units to learn more from each layer\n",
    "#increasing batch size to 128 to get a larger read of data\n",
    "model = Sequential()\n",
    "model.add(Dense(50, input_dim=84, init='uniform', activation='relu'))\n",
    "model.add(Dropout(0.8))\n",
    "model.add(Dense(30, init='uniform', activation='relu'))\n",
    "model.add(Dense(20, init='uniform', activation='relu'))\n",
    "model.add(Dense(10, init='uniform', activation='relu'))\n",
    "model.add(Dense(5, init='uniform', activation='relu'))\n",
    "model.add(Dense(1, init='uniform', activation='sigmoid'))\n",
    "model.compile(loss='binary_crossentropy', optimizer='adam', metrics=['accuracy'])\n",
    "model.fit(X_train, y_train, epochs=100, batch_size=128,  verbose=0)\n",
    "predictions = model.predict(X_valid)\n",
    "rounded = [round(x[0]) for x in predictions]\n",
    "\n",
    "#confusion Matric\n",
    "cm = confusion_matrix(y_valid, rounded)\n",
    "class_names = [0,1]\n",
    "plt.figure()\n",
    "plot_confusion_matrix(cm , classes=class_names, title='Confusion matrix')\n",
    "plt.show()\n",
    "tn, fp, fn, tp = cm.ravel()\n",
    "precision=tp/(tp+fp)\n",
    "recall=tp/(tp+fn)\n",
    "fpr = fp/(fp+ tn)\n",
    "accuracy = (tp + tn)/(tn + tp + fn + fp)\n",
    "F1 = 2 * (precision * recall) / (precision + recall)\n",
    "Fpr, tpr, thresholds = roc_curve(y_valid, rounded)\n",
    "roc_auc = auc(Fpr,tpr)\n",
    "print(\"precision:\", precision*100)\n",
    "print(\"recall:\", recall*100)\n",
    "print(\"false positive rate:\", fpr*100)\n",
    "print(\"accuracy\",  accuracy*100)\n",
    "print(\"F1-score\", F1)\n",
    "print(\"AUC\", roc_auc)"
   ]
  },
  {
   "cell_type": "code",
   "execution_count": 21,
   "metadata": {},
   "outputs": [],
   "source": [
    "import itertools\n",
    "def plot_confusion_matrix(cm, classes,\n",
    "                          normalize=False,\n",
    "                          title='Confusion matrix',\n",
    "                          cmap=plt.cm.Blues):\n",
    "    \"\"\"\n",
    "    This function prints and plots the confusion matrix.\n",
    "    Normalization can be applied by setting `normalize=True`.\n",
    "    \"\"\"\n",
    "    plt.imshow(cm, interpolation='nearest', cmap=cmap)\n",
    "    plt.title(title)\n",
    "    plt.colorbar()\n",
    "    tick_marks = np.arange(len(classes))\n",
    "    plt.xticks(tick_marks, classes, rotation=0)\n",
    "    plt.yticks(tick_marks, classes)\n",
    "\n",
    "    if normalize:\n",
    "        cm = cm.astype('float') / cm.sum(axis=1)[:, np.newaxis]\n",
    "        #print(\"Normalized confusion matrix\")\n",
    "    else:\n",
    "        1#print('Confusion matrix, without normalization')\n",
    "\n",
    "    #print(cm)\n",
    "\n",
    "    thresh = cm.max() / 2.\n",
    "    for i, j in itertools.product(range(cm.shape[0]), range(cm.shape[1])):\n",
    "        plt.text(j, i, cm[i, j],\n",
    "                 horizontalalignment=\"center\",\n",
    "                 color=\"white\" if cm[i, j] > thresh else \"black\")\n",
    "\n",
    "    plt.tight_layout()\n",
    "    plt.ylabel('True label')\n",
    "    plt.xlabel('Predicted label')\n"
   ]
  },
  {
   "cell_type": "code",
   "execution_count": null,
   "metadata": {},
   "outputs": [],
   "source": []
  }
 ],
 "metadata": {
  "kernelspec": {
   "display_name": "Python 3",
   "language": "python",
   "name": "python3"
  },
  "language_info": {
   "codemirror_mode": {
    "name": "ipython",
    "version": 3
   },
   "file_extension": ".py",
   "mimetype": "text/x-python",
   "name": "python",
   "nbconvert_exporter": "python",
   "pygments_lexer": "ipython3",
   "version": "3.6.8"
  }
 },
 "nbformat": 4,
 "nbformat_minor": 2
}
